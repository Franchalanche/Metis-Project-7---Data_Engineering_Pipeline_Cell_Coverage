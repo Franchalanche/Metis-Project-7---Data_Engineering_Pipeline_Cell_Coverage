{
 "cells": [
  {
   "cell_type": "code",
   "execution_count": 1,
   "id": "a5caf912-2e59-4d0e-a063-86e009089099",
   "metadata": {},
   "outputs": [],
   "source": [
    "import pandas as pd"
   ]
  },
  {
   "cell_type": "code",
   "execution_count": 2,
   "id": "59bca099-10fc-44c7-ba79-12f47cb0125f",
   "metadata": {},
   "outputs": [],
   "source": [
    "import sqlite3"
   ]
  },
  {
   "cell_type": "markdown",
   "id": "9a155e3e-f7ab-4f4a-a1c2-4bc9516cfe08",
   "metadata": {},
   "source": [
    "Create SQLite connection"
   ]
  },
  {
   "cell_type": "code",
   "execution_count": 31,
   "id": "1c1704d2-de92-4616-b520-4c5c50579a98",
   "metadata": {},
   "outputs": [],
   "source": [
    "con = sqlite3.connect(\"/Users/francescaepiccorelli/Downloads/Data Engineering/new_db.db\")"
   ]
  },
  {
   "cell_type": "code",
   "execution_count": 32,
   "id": "aa0c1b1b-6df5-4e63-87bd-6755c1944dbd",
   "metadata": {},
   "outputs": [
    {
     "name": "stderr",
     "output_type": "stream",
     "text": [
      "/var/folders/ny/g82ykkn10bd8fqbx1q14fk_m0000gn/T/ipykernel_5016/1704895601.py:1: DtypeWarning: Columns (10) have mixed types. Specify dtype option on import or set low_memory=False.\n",
      "  df = pd.read_csv(\"df_no_nan.csv\")\n"
     ]
    }
   ],
   "source": [
    "df = pd.read_csv(\"df_no_nan.csv\")"
   ]
  },
  {
   "cell_type": "markdown",
   "id": "e42dbeec-252a-48b9-ab1c-6141da8f1f71",
   "metadata": {},
   "source": [
    "Create SQLite database"
   ]
  },
  {
   "cell_type": "code",
   "execution_count": 33,
   "id": "dc2ab9e4-2998-4c47-bc0f-eec13428cc17",
   "metadata": {},
   "outputs": [
    {
     "data": {
      "text/plain": [
       "10683528"
      ]
     },
     "execution_count": 33,
     "metadata": {},
     "output_type": "execute_result"
    }
   ],
   "source": [
    "df.to_sql(\"Main Table\",con)"
   ]
  },
  {
   "cell_type": "code",
   "execution_count": 6,
   "id": "4134cc2a-012f-44b6-8f97-2e69fef44844",
   "metadata": {},
   "outputs": [],
   "source": [
    "sql_df = pd.read_sql(\"SELECT * FROM Main Table\",con=con)"
   ]
  },
  {
   "cell_type": "code",
   "execution_count": 11,
   "id": "788cd28b-065e-4963-aa56-7d4844b9adaa",
   "metadata": {},
   "outputs": [
    {
     "data": {
      "text/html": [
       "<div>\n",
       "<style scoped>\n",
       "    .dataframe tbody tr th:only-of-type {\n",
       "        vertical-align: middle;\n",
       "    }\n",
       "\n",
       "    .dataframe tbody tr th {\n",
       "        vertical-align: top;\n",
       "    }\n",
       "\n",
       "    .dataframe thead th {\n",
       "        text-align: right;\n",
       "    }\n",
       "</style>\n",
       "<table border=\"1\" class=\"dataframe\">\n",
       "  <thead>\n",
       "    <tr style=\"text-align: right;\">\n",
       "      <th></th>\n",
       "      <th>index</th>\n",
       "      <th>Unnamed: 0</th>\n",
       "      <th>date</th>\n",
       "      <th>hour</th>\n",
       "      <th>lat</th>\n",
       "      <th>long</th>\n",
       "      <th>signal</th>\n",
       "      <th>network</th>\n",
       "      <th>operator</th>\n",
       "      <th>status</th>\n",
       "      <th>...</th>\n",
       "      <th>satellites</th>\n",
       "      <th>precission</th>\n",
       "      <th>provider</th>\n",
       "      <th>activity</th>\n",
       "      <th>postal_code</th>\n",
       "      <th>town_name</th>\n",
       "      <th>position_geom</th>\n",
       "      <th>latitude</th>\n",
       "      <th>longitude</th>\n",
       "      <th>Cleaned_Network</th>\n",
       "    </tr>\n",
       "  </thead>\n",
       "  <tbody>\n",
       "    <tr>\n",
       "      <th>0</th>\n",
       "      <td>0</td>\n",
       "      <td>0</td>\n",
       "      <td>2017-12-18</td>\n",
       "      <td>15:30:21</td>\n",
       "      <td>41.93341</td>\n",
       "      <td>3.15735</td>\n",
       "      <td>18</td>\n",
       "      <td>yoigo</td>\n",
       "      <td>Yoigo</td>\n",
       "      <td>0</td>\n",
       "      <td>...</td>\n",
       "      <td>2.0</td>\n",
       "      <td>128.0</td>\n",
       "      <td>gps</td>\n",
       "      <td>STILL</td>\n",
       "      <td>170139.0</td>\n",
       "      <td>Begur</td>\n",
       "      <td>POINT(3.15735 41.93341)</td>\n",
       "      <td>&lt;regex.Match object; span=(0, 8), match='41.93...</td>\n",
       "      <td>&lt;regex.Match object; span=(0, 7), match='3.157...</td>\n",
       "      <td>Yoigo</td>\n",
       "    </tr>\n",
       "    <tr>\n",
       "      <th>1</th>\n",
       "      <td>1</td>\n",
       "      <td>1</td>\n",
       "      <td>2017-12-18</td>\n",
       "      <td>01:10:15</td>\n",
       "      <td>42.19660</td>\n",
       "      <td>3.03423</td>\n",
       "      <td>10</td>\n",
       "      <td>yoigo</td>\n",
       "      <td>Yoigo</td>\n",
       "      <td>0</td>\n",
       "      <td>...</td>\n",
       "      <td>6.0</td>\n",
       "      <td>32.0</td>\n",
       "      <td>gps</td>\n",
       "      <td>STILL</td>\n",
       "      <td>171984.0</td>\n",
       "      <td>Torroella de Fluvià</td>\n",
       "      <td>POINT(3.03423 42.1966)</td>\n",
       "      <td>&lt;regex.Match object; span=(0, 7), match='42.19...</td>\n",
       "      <td>&lt;regex.Match object; span=(0, 7), match='3.034...</td>\n",
       "      <td>Yoigo</td>\n",
       "    </tr>\n",
       "    <tr>\n",
       "      <th>2</th>\n",
       "      <td>2</td>\n",
       "      <td>2</td>\n",
       "      <td>2017-12-18</td>\n",
       "      <td>08:20:42</td>\n",
       "      <td>42.19691</td>\n",
       "      <td>3.03393</td>\n",
       "      <td>15</td>\n",
       "      <td>yoigo</td>\n",
       "      <td>Yoigo</td>\n",
       "      <td>0</td>\n",
       "      <td>...</td>\n",
       "      <td>2.0</td>\n",
       "      <td>64.0</td>\n",
       "      <td>gps</td>\n",
       "      <td>STILL</td>\n",
       "      <td>171984.0</td>\n",
       "      <td>Torroella de Fluvià</td>\n",
       "      <td>POINT(3.03393 42.19691)</td>\n",
       "      <td>&lt;regex.Match object; span=(0, 8), match='42.19...</td>\n",
       "      <td>&lt;regex.Match object; span=(0, 7), match='3.033...</td>\n",
       "      <td>Yoigo</td>\n",
       "    </tr>\n",
       "    <tr>\n",
       "      <th>3</th>\n",
       "      <td>3</td>\n",
       "      <td>3</td>\n",
       "      <td>2017-12-18</td>\n",
       "      <td>00:24:31</td>\n",
       "      <td>42.19674</td>\n",
       "      <td>3.03404</td>\n",
       "      <td>7</td>\n",
       "      <td>yoigo</td>\n",
       "      <td>Yoigo</td>\n",
       "      <td>0</td>\n",
       "      <td>...</td>\n",
       "      <td>8.0</td>\n",
       "      <td>48.0</td>\n",
       "      <td>gps</td>\n",
       "      <td>STILL</td>\n",
       "      <td>171984.0</td>\n",
       "      <td>Torroella de Fluvià</td>\n",
       "      <td>POINT(3.03404 42.19674)</td>\n",
       "      <td>&lt;regex.Match object; span=(0, 8), match='42.19...</td>\n",
       "      <td>&lt;regex.Match object; span=(0, 7), match='3.034...</td>\n",
       "      <td>Yoigo</td>\n",
       "    </tr>\n",
       "    <tr>\n",
       "      <th>4</th>\n",
       "      <td>4</td>\n",
       "      <td>4</td>\n",
       "      <td>2017-12-18</td>\n",
       "      <td>01:16:25</td>\n",
       "      <td>42.19689</td>\n",
       "      <td>3.03424</td>\n",
       "      <td>8</td>\n",
       "      <td>yoigo</td>\n",
       "      <td>Yoigo</td>\n",
       "      <td>0</td>\n",
       "      <td>...</td>\n",
       "      <td>6.0</td>\n",
       "      <td>32.0</td>\n",
       "      <td>gps</td>\n",
       "      <td>STILL</td>\n",
       "      <td>171984.0</td>\n",
       "      <td>Torroella de Fluvià</td>\n",
       "      <td>POINT(3.03424 42.19689)</td>\n",
       "      <td>&lt;regex.Match object; span=(0, 8), match='42.19...</td>\n",
       "      <td>&lt;regex.Match object; span=(0, 7), match='3.034...</td>\n",
       "      <td>Yoigo</td>\n",
       "    </tr>\n",
       "  </tbody>\n",
       "</table>\n",
       "<p>5 rows × 23 columns</p>\n",
       "</div>"
      ],
      "text/plain": [
       "   index  Unnamed: 0        date      hour       lat     long  signal network  \\\n",
       "0      0           0  2017-12-18  15:30:21  41.93341  3.15735      18   yoigo   \n",
       "1      1           1  2017-12-18  01:10:15  42.19660  3.03423      10   yoigo   \n",
       "2      2           2  2017-12-18  08:20:42  42.19691  3.03393      15   yoigo   \n",
       "3      3           3  2017-12-18  00:24:31  42.19674  3.03404       7   yoigo   \n",
       "4      4           4  2017-12-18  01:16:25  42.19689  3.03424       8   yoigo   \n",
       "\n",
       "  operator  status  ... satellites precission  provider  activity  \\\n",
       "0    Yoigo       0  ...        2.0      128.0       gps     STILL   \n",
       "1    Yoigo       0  ...        6.0       32.0       gps     STILL   \n",
       "2    Yoigo       0  ...        2.0       64.0       gps     STILL   \n",
       "3    Yoigo       0  ...        8.0       48.0       gps     STILL   \n",
       "4    Yoigo       0  ...        6.0       32.0       gps     STILL   \n",
       "\n",
       "   postal_code            town_name            position_geom  \\\n",
       "0     170139.0                Begur  POINT(3.15735 41.93341)   \n",
       "1     171984.0  Torroella de Fluvià   POINT(3.03423 42.1966)   \n",
       "2     171984.0  Torroella de Fluvià  POINT(3.03393 42.19691)   \n",
       "3     171984.0  Torroella de Fluvià  POINT(3.03404 42.19674)   \n",
       "4     171984.0  Torroella de Fluvià  POINT(3.03424 42.19689)   \n",
       "\n",
       "                                            latitude  \\\n",
       "0  <regex.Match object; span=(0, 8), match='41.93...   \n",
       "1  <regex.Match object; span=(0, 7), match='42.19...   \n",
       "2  <regex.Match object; span=(0, 8), match='42.19...   \n",
       "3  <regex.Match object; span=(0, 8), match='42.19...   \n",
       "4  <regex.Match object; span=(0, 8), match='42.19...   \n",
       "\n",
       "                                           longitude Cleaned_Network  \n",
       "0  <regex.Match object; span=(0, 7), match='3.157...           Yoigo  \n",
       "1  <regex.Match object; span=(0, 7), match='3.034...           Yoigo  \n",
       "2  <regex.Match object; span=(0, 7), match='3.033...           Yoigo  \n",
       "3  <regex.Match object; span=(0, 7), match='3.034...           Yoigo  \n",
       "4  <regex.Match object; span=(0, 7), match='3.034...           Yoigo  \n",
       "\n",
       "[5 rows x 23 columns]"
      ]
     },
     "execution_count": 11,
     "metadata": {},
     "output_type": "execute_result"
    }
   ],
   "source": [
    "sql_df.head()"
   ]
  },
  {
   "cell_type": "markdown",
   "id": "e9fb5151-756f-4258-a701-845c13b2bf9d",
   "metadata": {},
   "source": [
    "Create smaller, more workable subsets"
   ]
  },
  {
   "cell_type": "code",
   "execution_count": 8,
   "id": "1f1f784e-8814-4bf5-a3a4-01e6107fd711",
   "metadata": {},
   "outputs": [],
   "source": [
    "import numpy as np"
   ]
  },
  {
   "cell_type": "code",
   "execution_count": 9,
   "id": "e59a50e0-7edf-4aae-8036-3b380808dee7",
   "metadata": {},
   "outputs": [],
   "source": [
    "smaller_dfs = np.array_split(sql_df,50)"
   ]
  },
  {
   "cell_type": "code",
   "execution_count": 10,
   "id": "db0a7e94-e5e2-4e3f-a410-2ed1f8a9e35a",
   "metadata": {},
   "outputs": [],
   "source": [
    "df_0 = smaller_dfs[0]"
   ]
  },
  {
   "cell_type": "code",
   "execution_count": 13,
   "id": "29ce8265-2760-401d-bba2-055bb25852df",
   "metadata": {},
   "outputs": [],
   "source": [
    "import matplotlib.pyplot as plt"
   ]
  },
  {
   "cell_type": "code",
   "execution_count": null,
   "id": "bedc4bd8-9f12-48d3-8616-2a81a0827efa",
   "metadata": {},
   "outputs": [],
   "source": [
    "#MAKE DATABASE FILTERABLE BY TIME\n",
    "st.slider(label, min_value=None, max_value=None, value=None, step=None, format=None, key=None, help=None, on_change=None, args=None, kwargs=None, *, disabled=False, label_visibility=\"visible\")"
   ]
  },
  {
   "cell_type": "code",
   "execution_count": null,
   "id": "0d888db5-161a-4bc4-87d8-7e9bf372d0c8",
   "metadata": {},
   "outputs": [],
   "source": [
    "new_df = df[0]"
   ]
  },
  {
   "cell_type": "code",
   "execution_count": 14,
   "id": "ad126969-9243-4bcf-8b21-7512355a1211",
   "metadata": {},
   "outputs": [
    {
     "data": {
      "image/png": "[encoded data removed]",
      "text/plain": [
       "<Figure size 2160x756 with 1 Axes>"
      ]
     },
     "metadata": {
      "needs_background": "light"
     },
     "output_type": "display_data"
    }
   ],
   "source": [
    "fig, ax = plt.subplots()\n",
    "ax.plot(np.unique(df_0[\"hour\"]), df_0[\"hour\"].value_counts().sort_index(), linewidth=2.0)\n",
    "fig.set_size_inches(30, 10.5, forward=True)"
   ]
  },
  {
   "cell_type": "code",
   "execution_count": 19,
   "id": "8c35fdee-0342-43aa-ad97-47dcd1d91940",
   "metadata": {},
   "outputs": [
    {
     "data": {
      "text/plain": [
       "array(['Yoigo', 'Orange', 'MoviStar', 'VodaFone', 'Jazztel',\n",
       "       'Eroski Movil', 'Other', 'Lowi', 'Mobiland', None, 'Simyo',\n",
       "       'CableMovil', 'Parlem'], dtype=object)"
      ]
     },
     "execution_count": 19,
     "metadata": {},
     "output_type": "execute_result"
    }
   ],
   "source": [
    "df_0[\"Cleaned_Network\"].unique()"
   ]
  },
  {
   "cell_type": "code",
   "execution_count": 20,
   "id": "2697aa2e-f0c0-4619-b1eb-17611e675dbb",
   "metadata": {},
   "outputs": [
    {
     "data": {
      "text/plain": [
       "MoviStar        90816\n",
       "Orange          57150\n",
       "VodaFone        53660\n",
       "Yoigo            9754\n",
       "Jazztel          1006\n",
       "Other             558\n",
       "Eroski Movil      239\n",
       "Simyo             216\n",
       "Lowi              109\n",
       "Mobiland          105\n",
       "Parlem             35\n",
       "CableMovil         22\n",
       "Name: Cleaned_Network, dtype: int64"
      ]
     },
     "execution_count": 20,
     "metadata": {},
     "output_type": "execute_result"
    }
   ],
   "source": [
    "df_0[\"Cleaned_Network\"].value_counts()"
   ]
  },
  {
   "cell_type": "code",
   "execution_count": 23,
   "id": "13db01c1-3a54-4e8a-b6c7-9e8696fca6e3",
   "metadata": {},
   "outputs": [
    {
     "data": {
      "text/plain": [
       "array(['MoviStar', 'Orange', 'VodaFone', 'Yoigo', 'Jazztel', 'Other',\n",
       "       'Eroski Movil', 'Simyo', 'Lowi', 'Mobiland', 'Parlem',\n",
       "       'CableMovil'], dtype=object)"
      ]
     },
     "execution_count": 23,
     "metadata": {},
     "output_type": "execute_result"
    }
   ],
   "source": [
    "df_0[\"Cleaned_Network\"].value_counts().index.values"
   ]
  },
  {
   "cell_type": "code",
   "execution_count": 27,
   "id": "e5c1c337-f6ba-4adb-b16e-a7f0f62fbf7d",
   "metadata": {},
   "outputs": [
    {
     "data": {
      "image/png": "[encoded data removed]",
      "text/plain": [
       "<Figure size 432x288 with 1 Axes>"
      ]
     },
     "metadata": {},
     "output_type": "display_data"
    }
   ],
   "source": [
    "fig1, ax1 = plt.subplots()\n",
    "ax1.pie(df_0[\"Cleaned_Network\"].value_counts(),explode = (0.1,0.1,0.1,0.1,0.2,0.2,0.2,0.3,0.5,0.5,.5,.5),labels=df_0[\"Cleaned_Network\"].value_counts().index.values, autopct='%1.1f%%',\n",
    "        shadow=True, startangle=90)\n",
    "ax1.axis('equal')  # Equal aspect ratio ensures that pie is drawn as a circle.\n",
    "\n",
    "plt.show()"
   ]
  },
  {
   "cell_type": "code",
   "execution_count": null,
   "id": "491caad2-4988-40a7-8f9a-4a904f6a0d3e",
   "metadata": {},
   "outputs": [],
   "source": [
    "### signal, speed, and precision\n",
    "\"Top_Networks\""
   ]
  },
  {
   "cell_type": "code",
   "execution_count": null,
   "id": "62d853d8-35c4-4637-99d5-112ed060df21",
   "metadata": {},
   "outputs": [],
   "source": [
    "metric_input = button"
   ]
  },
  {
   "cell_type": "code",
   "execution_count": null,
   "id": "2004dcb6-4cf0-4ec7-bddc-414d7bc8bbbc",
   "metadata": {},
   "outputs": [],
   "source": [
    "fig2, ax2 = plt.subplots()\n",
    "ax2.plot(df_0[\"Top_Networks\"].unique(), df_0[\"speed\"], linewidth=2.0)\n",
    "fig2.set_size_inches(30, 10.5, forward=True)"
   ]
  },
  {
   "cell_type": "code",
   "execution_count": null,
   "id": "5f2b5beb-af36-4e7e-9738-0e935fa367f3",
   "metadata": {},
   "outputs": [],
   "source": []
  },
  {
   "cell_type": "code",
   "execution_count": null,
   "id": "2bfef2e7-a049-4acd-b463-0c518cdeec56",
   "metadata": {},
   "outputs": [],
   "source": []
  },
  {
   "cell_type": "code",
   "execution_count": null,
   "id": "b69ac3bb-dc33-4d02-927b-9fdb47302f86",
   "metadata": {},
   "outputs": [],
   "source": [
    "fig3, ax3 = plt.subplots()\n",
    "ax3.plot(df_0[\"activity\"].unique(), df_0[\"\"], linewidth=2.0)\n",
    "fig3.set_size_inches(30, 10.5, forward=True)"
   ]
  },
  {
   "cell_type": "code",
   "execution_count": null,
   "id": "e66f61d5-3f52-487e-8460-5bc6dbfa9886",
   "metadata": {},
   "outputs": [],
   "source": []
  },
  {
   "cell_type": "code",
   "execution_count": null,
   "id": "266e6a8a-217c-42b5-9684-ef8f7a10d636",
   "metadata": {},
   "outputs": [],
   "source": [
    "fig4, ax4 = plt.subplots()\n",
    "ax4.pie(df_0[\"activity\"].value_counts(),labels=df_0[\"activity\"].value_counts().index.values, autopct='%1.1f%%',\n",
    "        shadow=True, startangle=90)\n",
    "ax4.axis('equal')  # Equal aspect ratio ensures that pie is drawn as a circle.\n",
    "\n",
    "plt.show()"
   ]
  },
  {
   "cell_type": "code",
   "execution_count": null,
   "id": "4bb294b2-c3c6-43a1-9ebd-93724668c00b",
   "metadata": {},
   "outputs": [],
   "source": []
  },
  {
   "cell_type": "code",
   "execution_count": null,
   "id": "3fda8501-8939-4dcd-b3c7-234cb63496a3",
   "metadata": {},
   "outputs": [],
   "source": [
    "metric by area"
   ]
  },
  {
   "cell_type": "code",
   "execution_count": null,
   "id": "a164ae58-d1c4-4f1d-a4a1-8ec21bab1bdb",
   "metadata": {},
   "outputs": [],
   "source": []
  },
  {
   "cell_type": "code",
   "execution_count": 34,
   "id": "aba5a9dd-fc77-412f-9313-22ecf056f91b",
   "metadata": {},
   "outputs": [
    {
     "data": {
      "image/png": "[encoded data removed]",
      "text/plain": [
       "<Figure size 720x432 with 1 Axes>"
      ]
     },
     "metadata": {
      "needs_background": "light"
     },
     "output_type": "display_data"
    }
   ],
   "source": [
    "import shapely.geometry\n",
    "from shapely.geometry import Point\n",
    "import geopandas as gpd\n",
    "from geopandas import GeoDataFrame\n",
    "\n",
    "geometry = [Point(xy) for xy in zip(df_0['lat'], df_0['long'])]\n",
    "gdf = GeoDataFrame(df_0, geometry=geometry)   \n",
    "\n",
    "#this is a simple map that goes with geopandas\n",
    "world = gpd.read_file(gpd.datasets.get_path('naturalearth_lowres'))\n",
    "#world = gpd.read_file(df)\n",
    "gdf.plot(ax=world.plot(figsize=(10, 6)), marker='o', color='red', markersize=15);"
   ]
  },
  {
   "cell_type": "code",
   "execution_count": 35,
   "id": "a7b2641b-b3d0-45ad-8ec5-7af087a8e545",
   "metadata": {},
   "outputs": [
    {
     "ename": "AttributeError",
     "evalue": "'str' object has no attribute 'type'",
     "output_type": "error",
     "traceback": [
      "\u001b[0;31m---------------------------------------------------------------------------\u001b[0m",
      "\u001b[0;31mAttributeError\u001b[0m                            Traceback (most recent call last)",
      "Input \u001b[0;32mIn [35]\u001b[0m, in \u001b[0;36m<cell line: 1>\u001b[0;34m()\u001b[0m\n\u001b[0;32m----> 1\u001b[0m \u001b[43mdf_0\u001b[49m\u001b[43m[\u001b[49m\u001b[38;5;124;43m\"\u001b[39;49m\u001b[38;5;124;43mdate\u001b[39;49m\u001b[38;5;124;43m\"\u001b[39;49m\u001b[43m]\u001b[49m\u001b[43m[\u001b[49m\u001b[38;5;241;43m0\u001b[39;49m\u001b[43m]\u001b[49m\u001b[38;5;241;43m.\u001b[39;49m\u001b[43mtype\u001b[49m()\n",
      "\u001b[0;31mAttributeError\u001b[0m: 'str' object has no attribute 'type'"
     ]
    }
   ],
   "source": [
    "df_0[\"date\"][0].type()"
   ]
  },
  {
   "cell_type": "code",
   "execution_count": 36,
   "id": "aa162e5e-92f5-4414-ad97-774fd006c7bd",
   "metadata": {},
   "outputs": [
    {
     "data": {
      "text/plain": [
       "str"
      ]
     },
     "execution_count": 36,
     "metadata": {},
     "output_type": "execute_result"
    }
   ],
   "source": [
    "type(df_0[\"date\"][0])"
   ]
  },
  {
   "cell_type": "code",
   "execution_count": 39,
   "id": "1ecd889f-415a-4216-bb39-3e8febf4ee74",
   "metadata": {},
   "outputs": [
    {
     "ename": "TypeError",
     "evalue": "to_datetime() got an unexpected keyword argument 'inplace'",
     "output_type": "error",
     "traceback": [
      "\u001b[0;31m---------------------------------------------------------------------------\u001b[0m",
      "\u001b[0;31mTypeError\u001b[0m                                 Traceback (most recent call last)",
      "Input \u001b[0;32mIn [39]\u001b[0m, in \u001b[0;36m<cell line: 1>\u001b[0;34m()\u001b[0m\n\u001b[0;32m----> 1\u001b[0m \u001b[43mpd\u001b[49m\u001b[38;5;241;43m.\u001b[39;49m\u001b[43mto_datetime\u001b[49m\u001b[43m(\u001b[49m\u001b[43mdf_0\u001b[49m\u001b[43m[\u001b[49m\u001b[38;5;124;43m\"\u001b[39;49m\u001b[38;5;124;43mdate\u001b[39;49m\u001b[38;5;124;43m\"\u001b[39;49m\u001b[43m]\u001b[49m\u001b[43m,\u001b[49m\u001b[43minplace\u001b[49m\u001b[38;5;241;43m=\u001b[39;49m\u001b[38;5;28;43;01mTrue\u001b[39;49;00m\u001b[43m)\u001b[49m\n",
      "\u001b[0;31mTypeError\u001b[0m: to_datetime() got an unexpected keyword argument 'inplace'"
     ]
    }
   ],
   "source": [
    "pd.to_datetime(df_0[\"date\"],inplace=True)"
   ]
  },
  {
   "cell_type": "code",
   "execution_count": 38,
   "id": "f89b010b-d46c-4a0e-a047-d0b5e13ba8cd",
   "metadata": {},
   "outputs": [
    {
     "data": {
      "text/plain": [
       "str"
      ]
     },
     "execution_count": 38,
     "metadata": {},
     "output_type": "execute_result"
    }
   ],
   "source": [
    "type(df_0[\"date\"][0])"
   ]
  },
  {
   "cell_type": "code",
   "execution_count": 40,
   "id": "c830e3b5-f70c-474c-99c0-caae64c384dd",
   "metadata": {},
   "outputs": [],
   "source": [
    "df_0.to_csv(\"df_no_nan_small.csv\")"
   ]
  },
  {
   "cell_type": "code",
   "execution_count": null,
   "id": "abbeb802-3754-45c2-9ea1-5c8d3182f0be",
   "metadata": {},
   "outputs": [],
   "source": []
  }
 ],
 "metadata": {
  "kernelspec": {
   "display_name": "Python 3 (ipykernel)",
   "language": "python",
   "name": "python3"
  },
  "language_info": {
   "codemirror_mode": {
    "name": "ipython",
    "version": 3
   },
   "file_extension": ".py",
   "mimetype": "text/x-python",
   "name": "python",
   "nbconvert_exporter": "python",
   "pygments_lexer": "ipython3",
   "version": "3.9.12"
  }
 },
 "nbformat": 4,
 "nbformat_minor": 5
}
